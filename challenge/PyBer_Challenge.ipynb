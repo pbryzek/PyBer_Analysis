{
 "cells": [
  {
   "cell_type": "code",
   "execution_count": 1,
   "metadata": {},
   "outputs": [],
   "source": [
    "# Dependencies and Setup\n",
    "import matplotlib.pyplot as plt\n",
    "import matplotlib.style as style\n",
    "import pandas as pd\n",
    "import numpy as np\n",
    "import datetime"
   ]
  },
  {
   "cell_type": "code",
   "execution_count": 2,
   "metadata": {},
   "outputs": [],
   "source": [
    "#Helper function to set the summary data for a city type row\n",
    "def create_summary_row(total_rides,total_fares,drivers_count):    \n",
    "    #Calculate average fare and average fare for driver\n",
    "    avg_fare = total_fares / total_rides\n",
    "    avg_fare_driver = total_fares / drivers_count\n",
    "    return (total_rides,drivers_count,total_fares,avg_fare,avg_fare_driver)"
   ]
  },
  {
   "cell_type": "code",
   "execution_count": 3,
   "metadata": {},
   "outputs": [],
   "source": [
    "# Files to load\n",
    "city_data_to_load = \"resources/city_data.csv\"\n",
    "ride_data_to_load = \"resources/ride_data.csv\"\n",
    "\n",
    "# Read the city data file and store it in a pandas DataFrame.\n",
    "city_data_df = pd.read_csv(city_data_to_load)\n",
    "# Read the ride data file and store it in a pandas DataFrame.\n",
    "ride_data_df = pd.read_csv(ride_data_to_load)"
   ]
  },
  {
   "cell_type": "code",
   "execution_count": 4,
   "metadata": {
    "scrolled": true
   },
   "outputs": [
    {
     "data": {
      "text/html": [
       "<div>\n",
       "<style scoped>\n",
       "    .dataframe tbody tr th:only-of-type {\n",
       "        vertical-align: middle;\n",
       "    }\n",
       "\n",
       "    .dataframe tbody tr th {\n",
       "        vertical-align: top;\n",
       "    }\n",
       "\n",
       "    .dataframe thead th {\n",
       "        text-align: right;\n",
       "    }\n",
       "</style>\n",
       "<table border=\"1\" class=\"dataframe\">\n",
       "  <thead>\n",
       "    <tr style=\"text-align: right;\">\n",
       "      <th></th>\n",
       "      <th>city</th>\n",
       "      <th>driver_count</th>\n",
       "      <th>type</th>\n",
       "      <th>date</th>\n",
       "      <th>fare</th>\n",
       "      <th>ride_id</th>\n",
       "    </tr>\n",
       "  </thead>\n",
       "  <tbody>\n",
       "    <tr>\n",
       "      <th>0</th>\n",
       "      <td>Richardfort</td>\n",
       "      <td>38</td>\n",
       "      <td>Urban</td>\n",
       "      <td>2019-02-24 08:40:38</td>\n",
       "      <td>13.93</td>\n",
       "      <td>5628545007794</td>\n",
       "    </tr>\n",
       "    <tr>\n",
       "      <th>1</th>\n",
       "      <td>Richardfort</td>\n",
       "      <td>38</td>\n",
       "      <td>Urban</td>\n",
       "      <td>2019-02-13 12:46:07</td>\n",
       "      <td>14.00</td>\n",
       "      <td>910050116494</td>\n",
       "    </tr>\n",
       "    <tr>\n",
       "      <th>2</th>\n",
       "      <td>Richardfort</td>\n",
       "      <td>38</td>\n",
       "      <td>Urban</td>\n",
       "      <td>2019-02-16 13:52:19</td>\n",
       "      <td>17.92</td>\n",
       "      <td>820639054416</td>\n",
       "    </tr>\n",
       "    <tr>\n",
       "      <th>3</th>\n",
       "      <td>Richardfort</td>\n",
       "      <td>38</td>\n",
       "      <td>Urban</td>\n",
       "      <td>2019-02-01 20:18:28</td>\n",
       "      <td>10.26</td>\n",
       "      <td>9554935945413</td>\n",
       "    </tr>\n",
       "    <tr>\n",
       "      <th>4</th>\n",
       "      <td>Richardfort</td>\n",
       "      <td>38</td>\n",
       "      <td>Urban</td>\n",
       "      <td>2019-04-17 02:26:37</td>\n",
       "      <td>23.00</td>\n",
       "      <td>720020655850</td>\n",
       "    </tr>\n",
       "  </tbody>\n",
       "</table>\n",
       "</div>"
      ],
      "text/plain": [
       "          city  driver_count   type                 date   fare        ride_id\n",
       "0  Richardfort            38  Urban  2019-02-24 08:40:38  13.93  5628545007794\n",
       "1  Richardfort            38  Urban  2019-02-13 12:46:07  14.00   910050116494\n",
       "2  Richardfort            38  Urban  2019-02-16 13:52:19  17.92   820639054416\n",
       "3  Richardfort            38  Urban  2019-02-01 20:18:28  10.26  9554935945413\n",
       "4  Richardfort            38  Urban  2019-04-17 02:26:37  23.00   720020655850"
      ]
     },
     "execution_count": 4,
     "metadata": {},
     "output_type": "execute_result"
    }
   ],
   "source": [
    "# Combine the data into a single dataset\n",
    "pyber_data_df = pd.merge(city_data_df,ride_data_df, how=\"left\", on=[\"city\", \"city\"])\n",
    "# Display the DataFrame\n",
    "pyber_data_df.head()"
   ]
  },
  {
   "cell_type": "code",
   "execution_count": 5,
   "metadata": {},
   "outputs": [],
   "source": [
    "#Calculate the driver count from the original city data for each city type\n",
    "driver_count_df = city_data_df.groupby(['type'])['driver_count'].sum()\n",
    "d_count_u = driver_count_df[\"Urban\"]\n",
    "d_count_s = driver_count_df[\"Suburban\"]\n",
    "d_count_r = driver_count_df[\"Rural\"]"
   ]
  },
  {
   "cell_type": "code",
   "execution_count": 6,
   "metadata": {},
   "outputs": [],
   "source": [
    "#Calculate the total ride count from the merged data for each city type\n",
    "total_rides_df = pyber_data_df.groupby(['type'])['ride_id'].count()\n",
    "total_rides_u = total_rides_df[\"Urban\"]\n",
    "total_rides_s = total_rides_df[\"Suburban\"]\n",
    "total_rides_r = total_rides_df[\"Rural\"]"
   ]
  },
  {
   "cell_type": "code",
   "execution_count": 7,
   "metadata": {},
   "outputs": [],
   "source": [
    "#Calculate the total fare sum from the merged data for each city type\n",
    "total_fares_df = pyber_data_df.groupby(['type'])['fare'].sum()\n",
    "total_fares_u = total_fares_df[\"Urban\"]\n",
    "total_fares_s = total_fares_df[\"Suburban\"]\n",
    "total_fares_r = total_fares_df[\"Rural\"]"
   ]
  },
  {
   "cell_type": "code",
   "execution_count": 8,
   "metadata": {},
   "outputs": [],
   "source": [
    "#Create the summary row for each city type\n",
    "urban_row = create_summary_row(total_rides_u,total_fares_u,d_count_u)\n",
    "suburban_row = create_summary_row(total_rides_s,total_fares_s,d_count_s)\n",
    "rural_row = create_summary_row(total_rides_r,total_fares_r,d_count_r)"
   ]
  },
  {
   "cell_type": "code",
   "execution_count": 9,
   "metadata": {},
   "outputs": [],
   "source": [
    "#Add summary rows to an array to pass into creating a new DataFrame\n",
    "rows = []\n",
    "rows.append(rural_row)\n",
    "rows.append(suburban_row)\n",
    "rows.append(urban_row)"
   ]
  },
  {
   "cell_type": "code",
   "execution_count": 10,
   "metadata": {},
   "outputs": [],
   "source": [
    "#Rename the columns and indices\n",
    "summary_df = pd.DataFrame(rows, columns=['Total Rides', 'Total Drivers', 'Total Fares', 'Average Fare per Ride', 'Average Fare per Driver'], index=['Rural','Suburban','Urban'])\n",
    "#Reset index\n",
    "summary_df.index.name = None"
   ]
  },
  {
   "cell_type": "code",
   "execution_count": 11,
   "metadata": {
    "scrolled": true
   },
   "outputs": [
    {
     "data": {
      "text/html": [
       "<style  type=\"text/css\" >\n",
       "</style><table id=\"T_df1e5d56_7cea_11ea_9932_8c859023453f\" ><thead>    <tr>        <th class=\"blank level0\" ></th>        <th class=\"col_heading level0 col0\" >Total Rides</th>        <th class=\"col_heading level0 col1\" >Total Drivers</th>        <th class=\"col_heading level0 col2\" >Total Fares</th>        <th class=\"col_heading level0 col3\" >Average Fare per Ride</th>        <th class=\"col_heading level0 col4\" >Average Fare per Driver</th>    </tr></thead><tbody>\n",
       "                <tr>\n",
       "                        <th id=\"T_df1e5d56_7cea_11ea_9932_8c859023453flevel0_row0\" class=\"row_heading level0 row0\" >Rural</th>\n",
       "                        <td id=\"T_df1e5d56_7cea_11ea_9932_8c859023453frow0_col0\" class=\"data row0 col0\" >125</td>\n",
       "                        <td id=\"T_df1e5d56_7cea_11ea_9932_8c859023453frow0_col1\" class=\"data row0 col1\" >78</td>\n",
       "                        <td id=\"T_df1e5d56_7cea_11ea_9932_8c859023453frow0_col2\" class=\"data row0 col2\" >$4,327.93</td>\n",
       "                        <td id=\"T_df1e5d56_7cea_11ea_9932_8c859023453frow0_col3\" class=\"data row0 col3\" >$34.62</td>\n",
       "                        <td id=\"T_df1e5d56_7cea_11ea_9932_8c859023453frow0_col4\" class=\"data row0 col4\" >$55.49</td>\n",
       "            </tr>\n",
       "            <tr>\n",
       "                        <th id=\"T_df1e5d56_7cea_11ea_9932_8c859023453flevel0_row1\" class=\"row_heading level0 row1\" >Suburban</th>\n",
       "                        <td id=\"T_df1e5d56_7cea_11ea_9932_8c859023453frow1_col0\" class=\"data row1 col0\" >625</td>\n",
       "                        <td id=\"T_df1e5d56_7cea_11ea_9932_8c859023453frow1_col1\" class=\"data row1 col1\" >490</td>\n",
       "                        <td id=\"T_df1e5d56_7cea_11ea_9932_8c859023453frow1_col2\" class=\"data row1 col2\" >$19,356.33</td>\n",
       "                        <td id=\"T_df1e5d56_7cea_11ea_9932_8c859023453frow1_col3\" class=\"data row1 col3\" >$30.97</td>\n",
       "                        <td id=\"T_df1e5d56_7cea_11ea_9932_8c859023453frow1_col4\" class=\"data row1 col4\" >$39.50</td>\n",
       "            </tr>\n",
       "            <tr>\n",
       "                        <th id=\"T_df1e5d56_7cea_11ea_9932_8c859023453flevel0_row2\" class=\"row_heading level0 row2\" >Urban</th>\n",
       "                        <td id=\"T_df1e5d56_7cea_11ea_9932_8c859023453frow2_col0\" class=\"data row2 col0\" >1,625</td>\n",
       "                        <td id=\"T_df1e5d56_7cea_11ea_9932_8c859023453frow2_col1\" class=\"data row2 col1\" >2,405</td>\n",
       "                        <td id=\"T_df1e5d56_7cea_11ea_9932_8c859023453frow2_col2\" class=\"data row2 col2\" >$39,854.38</td>\n",
       "                        <td id=\"T_df1e5d56_7cea_11ea_9932_8c859023453frow2_col3\" class=\"data row2 col3\" >$24.53</td>\n",
       "                        <td id=\"T_df1e5d56_7cea_11ea_9932_8c859023453frow2_col4\" class=\"data row2 col4\" >$16.57</td>\n",
       "            </tr>\n",
       "    </tbody></table>"
      ],
      "text/plain": [
       "<pandas.io.formats.style.Styler at 0x1192bd810>"
      ]
     },
     "execution_count": 11,
     "metadata": {},
     "output_type": "execute_result"
    }
   ],
   "source": [
    "#Set proper Output Style for Part I of Challenge\n",
    "summary_df.style.format({'Total Rides': \"{:,}\",'Total Fares': \"${:,.2f}\",'Total Drivers': '{:,}', 'Average Fare per Ride': '${:.2f}', 'Average Fare per Driver': '${:.2f}'})"
   ]
  },
  {
   "cell_type": "code",
   "execution_count": 12,
   "metadata": {},
   "outputs": [],
   "source": [
    "pyber_data_df=pyber_data_df.rename(columns={'city': 'City', 'date':'Date','fare':'Fare', 'ride_id': 'Ride Id','driver_count': 'No. Drivers', 'type':'City Type'})\n",
    "pyber_data_df.set_index(pyber_data_df['Date'], inplace=True)"
   ]
  },
  {
   "cell_type": "code",
   "execution_count": 13,
   "metadata": {
    "scrolled": true
   },
   "outputs": [
    {
     "data": {
      "text/html": [
       "<div>\n",
       "<style scoped>\n",
       "    .dataframe tbody tr th:only-of-type {\n",
       "        vertical-align: middle;\n",
       "    }\n",
       "\n",
       "    .dataframe tbody tr th {\n",
       "        vertical-align: top;\n",
       "    }\n",
       "\n",
       "    .dataframe thead th {\n",
       "        text-align: right;\n",
       "    }\n",
       "</style>\n",
       "<table border=\"1\" class=\"dataframe\">\n",
       "  <thead>\n",
       "    <tr style=\"text-align: right;\">\n",
       "      <th></th>\n",
       "      <th>Date</th>\n",
       "      <th>City</th>\n",
       "      <th>City Type</th>\n",
       "      <th>Fare</th>\n",
       "    </tr>\n",
       "    <tr>\n",
       "      <th>Date</th>\n",
       "      <th></th>\n",
       "      <th></th>\n",
       "      <th></th>\n",
       "      <th></th>\n",
       "    </tr>\n",
       "  </thead>\n",
       "  <tbody>\n",
       "    <tr>\n",
       "      <th>2019-02-24 08:40:38</th>\n",
       "      <td>2019-02-24 08:40:38</td>\n",
       "      <td>Richardfort</td>\n",
       "      <td>Urban</td>\n",
       "      <td>13.93</td>\n",
       "    </tr>\n",
       "    <tr>\n",
       "      <th>2019-02-13 12:46:07</th>\n",
       "      <td>2019-02-13 12:46:07</td>\n",
       "      <td>Richardfort</td>\n",
       "      <td>Urban</td>\n",
       "      <td>14.00</td>\n",
       "    </tr>\n",
       "    <tr>\n",
       "      <th>2019-02-16 13:52:19</th>\n",
       "      <td>2019-02-16 13:52:19</td>\n",
       "      <td>Richardfort</td>\n",
       "      <td>Urban</td>\n",
       "      <td>17.92</td>\n",
       "    </tr>\n",
       "    <tr>\n",
       "      <th>2019-02-01 20:18:28</th>\n",
       "      <td>2019-02-01 20:18:28</td>\n",
       "      <td>Richardfort</td>\n",
       "      <td>Urban</td>\n",
       "      <td>10.26</td>\n",
       "    </tr>\n",
       "    <tr>\n",
       "      <th>2019-04-17 02:26:37</th>\n",
       "      <td>2019-04-17 02:26:37</td>\n",
       "      <td>Richardfort</td>\n",
       "      <td>Urban</td>\n",
       "      <td>23.00</td>\n",
       "    </tr>\n",
       "  </tbody>\n",
       "</table>\n",
       "</div>"
      ],
      "text/plain": [
       "                                    Date         City City Type   Fare\n",
       "Date                                                                  \n",
       "2019-02-24 08:40:38  2019-02-24 08:40:38  Richardfort     Urban  13.93\n",
       "2019-02-13 12:46:07  2019-02-13 12:46:07  Richardfort     Urban  14.00\n",
       "2019-02-16 13:52:19  2019-02-16 13:52:19  Richardfort     Urban  17.92\n",
       "2019-02-01 20:18:28  2019-02-01 20:18:28  Richardfort     Urban  10.26\n",
       "2019-04-17 02:26:37  2019-04-17 02:26:37  Richardfort     Urban  23.00"
      ]
     },
     "execution_count": 13,
     "metadata": {},
     "output_type": "execute_result"
    }
   ],
   "source": [
    "#Make a copy from the merged dataset on four columns\n",
    "fares_df = pyber_data_df[[\"Date\",\"City\",\"City Type\",\"Fare\"]].copy()\n",
    "fares_df.head()"
   ]
  },
  {
   "cell_type": "code",
   "execution_count": 14,
   "metadata": {},
   "outputs": [],
   "source": [
    "#Create a new column as a DateTime object from the Date provided\n",
    "fares_df[\"DateTime\"] = pd.to_datetime(fares_df[\"Date\"])\n",
    "#Drop the Date Columns\n",
    "fares_df.drop([\"Date\"],axis=1,inplace=True)\n",
    "#Set the index to DateTime\n",
    "fares_df.set_index('DateTime',inplace=True)"
   ]
  },
  {
   "cell_type": "code",
   "execution_count": 15,
   "metadata": {},
   "outputs": [
    {
     "name": "stdout",
     "output_type": "stream",
     "text": [
      "<class 'pandas.core.frame.DataFrame'>\n",
      "DatetimeIndex: 2375 entries, 2019-02-24 08:40:38 to 2019-04-12 18:11:50\n",
      "Data columns (total 3 columns):\n",
      " #   Column     Non-Null Count  Dtype  \n",
      "---  ------     --------------  -----  \n",
      " 0   City       2375 non-null   object \n",
      " 1   City Type  2375 non-null   object \n",
      " 2   Fare       2375 non-null   float64\n",
      "dtypes: float64(1), object(2)\n",
      "memory usage: 74.2+ KB\n"
     ]
    }
   ],
   "source": [
    "fares_df.info()"
   ]
  },
  {
   "cell_type": "code",
   "execution_count": 16,
   "metadata": {},
   "outputs": [
    {
     "data": {
      "text/html": [
       "<div>\n",
       "<style scoped>\n",
       "    .dataframe tbody tr th:only-of-type {\n",
       "        vertical-align: middle;\n",
       "    }\n",
       "\n",
       "    .dataframe tbody tr th {\n",
       "        vertical-align: top;\n",
       "    }\n",
       "\n",
       "    .dataframe thead th {\n",
       "        text-align: right;\n",
       "    }\n",
       "</style>\n",
       "<table border=\"1\" class=\"dataframe\">\n",
       "  <thead>\n",
       "    <tr style=\"text-align: right;\">\n",
       "      <th></th>\n",
       "      <th></th>\n",
       "      <th>Fare</th>\n",
       "    </tr>\n",
       "    <tr>\n",
       "      <th>City Type</th>\n",
       "      <th>DateTime</th>\n",
       "      <th></th>\n",
       "    </tr>\n",
       "  </thead>\n",
       "  <tbody>\n",
       "    <tr>\n",
       "      <th rowspan=\"5\" valign=\"top\">Rural</th>\n",
       "      <th>2019-01-01 09:45:36</th>\n",
       "      <td>43.69</td>\n",
       "    </tr>\n",
       "    <tr>\n",
       "      <th>2019-01-02 11:18:32</th>\n",
       "      <td>52.12</td>\n",
       "    </tr>\n",
       "    <tr>\n",
       "      <th>2019-01-03 19:51:01</th>\n",
       "      <td>19.90</td>\n",
       "    </tr>\n",
       "    <tr>\n",
       "      <th>2019-01-04 03:31:26</th>\n",
       "      <td>24.88</td>\n",
       "    </tr>\n",
       "    <tr>\n",
       "      <th>2019-01-06 07:38:40</th>\n",
       "      <td>47.33</td>\n",
       "    </tr>\n",
       "  </tbody>\n",
       "</table>\n",
       "</div>"
      ],
      "text/plain": [
       "                                Fare\n",
       "City Type DateTime                  \n",
       "Rural     2019-01-01 09:45:36  43.69\n",
       "          2019-01-02 11:18:32  52.12\n",
       "          2019-01-03 19:51:01  19.90\n",
       "          2019-01-04 03:31:26  24.88\n",
       "          2019-01-06 07:38:40  47.33"
      ]
     },
     "execution_count": 16,
     "metadata": {},
     "output_type": "execute_result"
    }
   ],
   "source": [
    "#Group the Fare and DateTime data by City Type\n",
    "city_date_df = fares_df.groupby([\"City Type\", \"DateTime\"]).sum()\n",
    "#Reset the Index\n",
    "city_date_df.index.name = None\n",
    "city_date_df.head()"
   ]
  },
  {
   "cell_type": "code",
   "execution_count": 36,
   "metadata": {},
   "outputs": [
    {
     "data": {
      "text/html": [
       "<div>\n",
       "<style scoped>\n",
       "    .dataframe tbody tr th:only-of-type {\n",
       "        vertical-align: middle;\n",
       "    }\n",
       "\n",
       "    .dataframe tbody tr th {\n",
       "        vertical-align: top;\n",
       "    }\n",
       "\n",
       "    .dataframe thead tr th {\n",
       "        text-align: left;\n",
       "    }\n",
       "\n",
       "    .dataframe thead tr:last-of-type th {\n",
       "        text-align: right;\n",
       "    }\n",
       "</style>\n",
       "<table border=\"1\" class=\"dataframe\">\n",
       "  <thead>\n",
       "    <tr>\n",
       "      <th></th>\n",
       "      <th colspan=\"8\" halign=\"left\">Fare</th>\n",
       "    </tr>\n",
       "    <tr>\n",
       "      <th></th>\n",
       "      <th>count</th>\n",
       "      <th>mean</th>\n",
       "      <th>std</th>\n",
       "      <th>min</th>\n",
       "      <th>25%</th>\n",
       "      <th>50%</th>\n",
       "      <th>75%</th>\n",
       "      <th>max</th>\n",
       "    </tr>\n",
       "    <tr>\n",
       "      <th>City Type</th>\n",
       "      <th></th>\n",
       "      <th></th>\n",
       "      <th></th>\n",
       "      <th></th>\n",
       "      <th></th>\n",
       "      <th></th>\n",
       "      <th></th>\n",
       "      <th></th>\n",
       "    </tr>\n",
       "  </thead>\n",
       "  <tbody>\n",
       "    <tr>\n",
       "      <th>Rural</th>\n",
       "      <td>125.0</td>\n",
       "      <td>34.623440</td>\n",
       "      <td>14.558046</td>\n",
       "      <td>10.11</td>\n",
       "      <td>19.90</td>\n",
       "      <td>37.05</td>\n",
       "      <td>47.07</td>\n",
       "      <td>58.55</td>\n",
       "    </tr>\n",
       "    <tr>\n",
       "      <th>Suburban</th>\n",
       "      <td>625.0</td>\n",
       "      <td>30.970128</td>\n",
       "      <td>10.677508</td>\n",
       "      <td>12.05</td>\n",
       "      <td>21.97</td>\n",
       "      <td>30.75</td>\n",
       "      <td>39.83</td>\n",
       "      <td>49.96</td>\n",
       "    </tr>\n",
       "    <tr>\n",
       "      <th>Urban</th>\n",
       "      <td>1625.0</td>\n",
       "      <td>24.525772</td>\n",
       "      <td>11.738649</td>\n",
       "      <td>4.05</td>\n",
       "      <td>14.55</td>\n",
       "      <td>24.64</td>\n",
       "      <td>34.58</td>\n",
       "      <td>44.97</td>\n",
       "    </tr>\n",
       "  </tbody>\n",
       "</table>\n",
       "</div>"
      ],
      "text/plain": [
       "             Fare                                                         \n",
       "            count       mean        std    min    25%    50%    75%    max\n",
       "City Type                                                                 \n",
       "Rural       125.0  34.623440  14.558046  10.11  19.90  37.05  47.07  58.55\n",
       "Suburban    625.0  30.970128  10.677508  12.05  21.97  30.75  39.83  49.96\n",
       "Urban      1625.0  24.525772  11.738649   4.05  14.55  24.64  34.58  44.97"
      ]
     },
     "execution_count": 36,
     "metadata": {},
     "output_type": "execute_result"
    }
   ],
   "source": [
    "city_date_df.groupby(\"City Type\").describe()"
   ]
  },
  {
   "cell_type": "code",
   "execution_count": 17,
   "metadata": {},
   "outputs": [
    {
     "data": {
      "text/html": [
       "<div>\n",
       "<style scoped>\n",
       "    .dataframe tbody tr th:only-of-type {\n",
       "        vertical-align: middle;\n",
       "    }\n",
       "\n",
       "    .dataframe tbody tr th {\n",
       "        vertical-align: top;\n",
       "    }\n",
       "\n",
       "    .dataframe thead th {\n",
       "        text-align: right;\n",
       "    }\n",
       "</style>\n",
       "<table border=\"1\" class=\"dataframe\">\n",
       "  <thead>\n",
       "    <tr style=\"text-align: right;\">\n",
       "      <th>City Type</th>\n",
       "      <th>Rural</th>\n",
       "      <th>Suburban</th>\n",
       "      <th>Urban</th>\n",
       "    </tr>\n",
       "  </thead>\n",
       "  <tbody>\n",
       "    <tr>\n",
       "      <th>count</th>\n",
       "      <td>125.000000</td>\n",
       "      <td>625.000000</td>\n",
       "      <td>1625.000000</td>\n",
       "    </tr>\n",
       "    <tr>\n",
       "      <th>mean</th>\n",
       "      <td>34.623440</td>\n",
       "      <td>30.970128</td>\n",
       "      <td>24.525772</td>\n",
       "    </tr>\n",
       "    <tr>\n",
       "      <th>std</th>\n",
       "      <td>14.558046</td>\n",
       "      <td>10.677508</td>\n",
       "      <td>11.738649</td>\n",
       "    </tr>\n",
       "    <tr>\n",
       "      <th>min</th>\n",
       "      <td>10.110000</td>\n",
       "      <td>12.050000</td>\n",
       "      <td>4.050000</td>\n",
       "    </tr>\n",
       "    <tr>\n",
       "      <th>25%</th>\n",
       "      <td>19.900000</td>\n",
       "      <td>21.970000</td>\n",
       "      <td>14.550000</td>\n",
       "    </tr>\n",
       "    <tr>\n",
       "      <th>50%</th>\n",
       "      <td>37.050000</td>\n",
       "      <td>30.750000</td>\n",
       "      <td>24.640000</td>\n",
       "    </tr>\n",
       "    <tr>\n",
       "      <th>75%</th>\n",
       "      <td>47.070000</td>\n",
       "      <td>39.830000</td>\n",
       "      <td>34.580000</td>\n",
       "    </tr>\n",
       "    <tr>\n",
       "      <th>max</th>\n",
       "      <td>58.550000</td>\n",
       "      <td>49.960000</td>\n",
       "      <td>44.970000</td>\n",
       "    </tr>\n",
       "  </tbody>\n",
       "</table>\n",
       "</div>"
      ],
      "text/plain": [
       "City Type       Rural    Suburban        Urban\n",
       "count      125.000000  625.000000  1625.000000\n",
       "mean        34.623440   30.970128    24.525772\n",
       "std         14.558046   10.677508    11.738649\n",
       "min         10.110000   12.050000     4.050000\n",
       "25%         19.900000   21.970000    14.550000\n",
       "50%         37.050000   30.750000    24.640000\n",
       "75%         47.070000   39.830000    34.580000\n",
       "max         58.550000   49.960000    44.970000"
      ]
     },
     "execution_count": 17,
     "metadata": {},
     "output_type": "execute_result"
    }
   ],
   "source": [
    "#Create a Pivot Table on City Type for the column, indexed on DateTime and looking at Fare\n",
    "city_pivot_df = city_date_df.pivot_table(index=\"DateTime\", columns=\"City Type\")[\"Fare\"]\n",
    "city_pivot_df.describe()"
   ]
  },
  {
   "cell_type": "code",
   "execution_count": 18,
   "metadata": {},
   "outputs": [
    {
     "data": {
      "text/html": [
       "<div>\n",
       "<style scoped>\n",
       "    .dataframe tbody tr th:only-of-type {\n",
       "        vertical-align: middle;\n",
       "    }\n",
       "\n",
       "    .dataframe tbody tr th {\n",
       "        vertical-align: top;\n",
       "    }\n",
       "\n",
       "    .dataframe thead th {\n",
       "        text-align: right;\n",
       "    }\n",
       "</style>\n",
       "<table border=\"1\" class=\"dataframe\">\n",
       "  <thead>\n",
       "    <tr style=\"text-align: right;\">\n",
       "      <th>City Type</th>\n",
       "      <th>Rural</th>\n",
       "      <th>Suburban</th>\n",
       "      <th>Urban</th>\n",
       "    </tr>\n",
       "    <tr>\n",
       "      <th>DateTime</th>\n",
       "      <th></th>\n",
       "      <th></th>\n",
       "      <th></th>\n",
       "    </tr>\n",
       "  </thead>\n",
       "  <tbody>\n",
       "    <tr>\n",
       "      <th>2019-01-01</th>\n",
       "      <td>187.92</td>\n",
       "      <td>876.61</td>\n",
       "      <td>1879.70</td>\n",
       "    </tr>\n",
       "    <tr>\n",
       "      <th>2019-01-08</th>\n",
       "      <td>139.80</td>\n",
       "      <td>1080.40</td>\n",
       "      <td>2193.36</td>\n",
       "    </tr>\n",
       "    <tr>\n",
       "      <th>2019-01-15</th>\n",
       "      <td>233.85</td>\n",
       "      <td>1163.93</td>\n",
       "      <td>2105.90</td>\n",
       "    </tr>\n",
       "    <tr>\n",
       "      <th>2019-01-22</th>\n",
       "      <td>210.94</td>\n",
       "      <td>1285.13</td>\n",
       "      <td>1846.98</td>\n",
       "    </tr>\n",
       "    <tr>\n",
       "      <th>2019-01-29</th>\n",
       "      <td>361.50</td>\n",
       "      <td>1079.58</td>\n",
       "      <td>2085.77</td>\n",
       "    </tr>\n",
       "  </tbody>\n",
       "</table>\n",
       "</div>"
      ],
      "text/plain": [
       "City Type    Rural  Suburban    Urban\n",
       "DateTime                             \n",
       "2019-01-01  187.92    876.61  1879.70\n",
       "2019-01-08  139.80   1080.40  2193.36\n",
       "2019-01-15  233.85   1163.93  2105.90\n",
       "2019-01-22  210.94   1285.13  1846.98\n",
       "2019-01-29  361.50   1079.58  2085.77"
      ]
     },
     "execution_count": 18,
     "metadata": {},
     "output_type": "execute_result"
    }
   ],
   "source": [
    "#From the pivot table, filter 2019 Jan-April dates.\n",
    "city_pivot_dates_df=city_pivot_df.loc['2019-01-01':'2019-04-28']\n",
    "#Resample to get the sums of the Fares per week\n",
    "city_pivot_dates_resample_df=city_pivot_dates_df.resample('7D').sum()\n",
    "city_pivot_dates_resample_df.head()"
   ]
  },
  {
   "cell_type": "code",
   "execution_count": 20,
   "metadata": {},
   "outputs": [
    {
     "data": {
      "text/plain": [
       "count      17.000000\n",
       "mean     2180.340000\n",
       "std       238.693092\n",
       "min      1846.980000\n",
       "25%      1971.720000\n",
       "50%      2156.880000\n",
       "75%      2329.980000\n",
       "max      2619.820000\n",
       "Name: Urban, dtype: float64"
      ]
     },
     "execution_count": 20,
     "metadata": {},
     "output_type": "execute_result"
    }
   ],
   "source": [
    "city_pivot_dates_resample_df[\"Urban\"].describe()"
   ]
  },
  {
   "cell_type": "code",
   "execution_count": 21,
   "metadata": {},
   "outputs": [
    {
     "data": {
      "text/plain": [
       "count      17.000000\n",
       "mean     1051.961176\n",
       "std       162.008166\n",
       "min       821.520000\n",
       "25%       879.920000\n",
       "50%      1067.990000\n",
       "75%      1144.270000\n",
       "max      1394.860000\n",
       "Name: Suburban, dtype: float64"
      ]
     },
     "execution_count": 21,
     "metadata": {},
     "output_type": "execute_result"
    }
   ],
   "source": [
    "city_pivot_dates_resample_df[\"Suburban\"].describe()"
   ]
  },
  {
   "cell_type": "code",
   "execution_count": 22,
   "metadata": {},
   "outputs": [
    {
     "data": {
      "text/plain": [
       "count     17.000000\n",
       "mean     230.217059\n",
       "std      117.727561\n",
       "min       75.650000\n",
       "25%      139.800000\n",
       "50%      210.940000\n",
       "75%      292.060000\n",
       "max      453.420000\n",
       "Name: Rural, dtype: float64"
      ]
     },
     "execution_count": 22,
     "metadata": {},
     "output_type": "execute_result"
    }
   ],
   "source": [
    "city_pivot_dates_resample_df[\"Rural\"].describe()"
   ]
  },
  {
   "cell_type": "code",
   "execution_count": 19,
   "metadata": {},
   "outputs": [
    {
     "data": {
      "image/png": "[encoded data removed]",
      "text/plain": [
       "<Figure size 2160x720 with 1 Axes>"
      ]
     },
     "metadata": {},
     "output_type": "display_data"
    }
   ],
   "source": [
    "#Plot the Chart\n",
    "style.use('fivethirtyeight')\n",
    "#Plot data and increase figure size\n",
    "ax = city_pivot_dates_resample_df.plot(figsize=(30,10))\n",
    "#Set title and x,y labels\n",
    "ax.set_title('Total Fare by City Type')\n",
    "ax.set_xlabel('')\n",
    "ax.set_ylabel('Fare($USD)')\n",
    "#Center the legend as per the example shown\n",
    "ax.get_legend().set_bbox_to_anchor((0.5, 0.5))\n",
    "#Save plot to file\n",
    "plt.savefig('./analysis/fare_sum_city_type.png')"
   ]
  },
  {
   "cell_type": "code",
   "execution_count": null,
   "metadata": {},
   "outputs": [],
   "source": []
  }
 ],
 "metadata": {
  "kernelspec": {
   "display_name": "PythonData",
   "language": "python",
   "name": "pythondata"
  },
  "language_info": {
   "codemirror_mode": {
    "name": "ipython",
    "version": 3
   },
   "file_extension": ".py",
   "mimetype": "text/x-python",
   "name": "python",
   "nbconvert_exporter": "python",
   "pygments_lexer": "ipython3",
   "version": "3.7.6"
  }
 },
 "nbformat": 4,
 "nbformat_minor": 4
}
